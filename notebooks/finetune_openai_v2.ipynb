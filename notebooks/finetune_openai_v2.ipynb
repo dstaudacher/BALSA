{
 "cells": [
  {
   "cell_type": "markdown",
   "metadata": {},
   "source": [
    "# First Steps in finetuning with open ai\n",
    "\n",
    "#### Updates\n",
    "\n",
    "* 20231116 updated to use finetuningYYYYMMDD.jsonl\n",
    "* 20231109 updated to use new 1.x api\n",
    "* 20231109 uses the BAS dataset"
   ]
  },
  {
   "cell_type": "code",
   "execution_count": 1,
   "metadata": {},
   "outputs": [],
   "source": [
    "# Import the os package\n",
    "import os\n",
    "\n",
    "\n",
    "# Imports via openai docs\n",
    "from pathlib import Path\n",
    "from openai import OpenAI\n",
    "\n",
    "\n",
    "# import the dotenv package\n",
    "from dotenv import load_dotenv\n",
    "\n",
    "import pprint\n",
    "\n",
    "# From the IPython.display package, import display and Markdown\n",
    "from IPython.display import display, Markdown\n",
    "\n"
   ]
  },
  {
   "cell_type": "code",
   "execution_count": 2,
   "metadata": {},
   "outputs": [
    {
     "data": {
      "text/plain": [
       "True"
      ]
     },
     "execution_count": 2,
     "metadata": {},
     "output_type": "execute_result"
    }
   ],
   "source": [
    "# Get the current working directory\n",
    "cwd = os.getcwd()\n",
    "# Construct the .env file path\n",
    "env_path = os.path.join(cwd, '.env')\n",
    "\n",
    "# Load the .env file\n",
    "load_dotenv(dotenv_path=env_path)"
   ]
  },
  {
   "cell_type": "code",
   "execution_count": 3,
   "metadata": {},
   "outputs": [],
   "source": [
    "# Set openai.api_key to the OPENAI environment variable\n",
    "OPENAI_API_KEY = os.environ[\"OPENAI_API_KEY\"]\n"
   ]
  },
  {
   "cell_type": "markdown",
   "metadata": {},
   "source": [
    "# specify the key and init the client"
   ]
  },
  {
   "cell_type": "code",
   "execution_count": 4,
   "metadata": {},
   "outputs": [],
   "source": [
    "client = OpenAI()\n",
    "client.api_key=OPENAI_API_KEY"
   ]
  },
  {
   "cell_type": "markdown",
   "metadata": {},
   "source": [
    "# Determine the OpenAI API version"
   ]
  },
  {
   "cell_type": "code",
   "execution_count": 5,
   "metadata": {},
   "outputs": [],
   "source": [
    "# from chatGPT when asked how to query api version,\n",
    "# which sadly does not work since the model was trained\n",
    "# before the api changed - I can only assume.\n",
    "\n",
    "#import openai\n",
    "#openai.api_key=OPENAI_API_KEY\n",
    "# To get the API version, you would typically make an API call\n",
    "# and the version would be included in the response headers.\n",
    "# For example, you could list the available engines and check the headers:\n",
    "#response = openai.Engine.list()\n",
    "\n",
    "# The API version would be in the response headers if available\n",
    "#api_version = response.headers.get('OpenAI-Api-Version')\n",
    "\n",
    "#print(api_version)"
   ]
  },
  {
   "cell_type": "markdown",
   "metadata": {},
   "source": [
    "# Sanity check\n",
    "Verify API key and network allows usage of the openAI API"
   ]
  },
  {
   "cell_type": "code",
   "execution_count": 7,
   "metadata": {},
   "outputs": [],
   "source": [
    "# Define the system message\n",
    "system_msg = 'You are a helpful assistant who understands data science.'\n",
    "\n",
    "# Define the user message\n",
    "user_msg = 'Create a small dataset of data about people. The format of the dataset should be a data frame with 5 rows and 3 columns. The columns should be called \"name\", \"height_cm\", and \"eye_color\". The \"name\" column should contain randomly chosen first names. The \"height_cm\" column should contain randomly chosen heights, given in centimeters. The \"eye_color\" column should contain randomly chosen eye colors, taken from a choice of \"brown\", \"blue\", and \"green\". Provide Python code to generate the dataset, then provide the output in the format of a markdown table.'\n",
    "\n",
    "\n",
    "\n",
    "# Create a dataset using GPT\n",
    "response = client.chat.completions.create(\n",
    "    model=\"gpt-3.5-turbo-0613\",\n",
    "    messages=[\n",
    "        {\"role\": \"system\", \"content\": system_msg},\n",
    "        {\"role\": \"user\", \"content\": user_msg}\n",
    "    ]\n",
    ")"
   ]
  },
  {
   "cell_type": "code",
   "execution_count": 8,
   "metadata": {},
   "outputs": [
    {
     "data": {
      "text/plain": [
       "'stop'"
      ]
     },
     "execution_count": 8,
     "metadata": {},
     "output_type": "execute_result"
    }
   ],
   "source": [
    "response.choices[0].finish_reason\n",
    "#response[\"choices\"]"
   ]
  },
  {
   "cell_type": "code",
   "execution_count": 9,
   "metadata": {},
   "outputs": [
    {
     "data": {
      "text/plain": [
       "'Sure! Here\\'s the Python code to generate the dataset:\\n\\n```python\\nimport pandas as pd\\nimport random\\n\\n# Randomly chosen first names\\nnames = [\"Alice\", \"Bob\", \"Charlie\", \"David\", \"Eva\"]\\n\\n# Randomly chosen heights in centimeters\\nheights = [random.randint(150, 200) for _ in range(5)]\\n\\n# Randomly chosen eye colors\\neye_colors = [\"brown\", \"blue\", \"green\"]\\n\\n# Create the data frame\\ndata = pd.DataFrame({\\n    \"name\": names,\\n    \"height_cm\": heights,\\n    \"eye_color\": [random.choice(eye_colors) for _ in range(5)]\\n})\\n\\ndata\\n```\\n\\nAnd here\\'s the output in the format of a markdown table:\\n\\n|    | name    |   height_cm | eye_color   |\\n|---:|:--------|------------:|:------------|\\n|  0 | Alice   |         198 | green       |\\n|  1 | Bob     |         185 | brown       |\\n|  2 | Charlie |         192 | brown       |\\n|  3 | David   |         151 | blue        |\\n|  4 | Eva     |         191 | brown       |'"
      ]
     },
     "execution_count": 9,
     "metadata": {},
     "output_type": "execute_result"
    }
   ],
   "source": [
    "response.choices[0].message.content"
   ]
  },
  {
   "cell_type": "code",
   "execution_count": null,
   "metadata": {},
   "outputs": [],
   "source": []
  },
  {
   "cell_type": "code",
   "execution_count": null,
   "metadata": {},
   "outputs": [],
   "source": []
  },
  {
   "cell_type": "markdown",
   "metadata": {},
   "source": [
    "# Upload a file for model tuning"
   ]
  },
  {
   "cell_type": "markdown",
   "metadata": {},
   "source": [
    "### Setup dirs"
   ]
  },
  {
   "cell_type": "code",
   "execution_count": 6,
   "metadata": {},
   "outputs": [
    {
     "name": "stdout",
     "output_type": "stream",
     "text": [
      "current directory is : /workspaces/BALSA/notebooks\n",
      "root directory is:  /workspaces/BALSA\n",
      "data directory is:  /workspaces/BALSA/data\n",
      "logs directory is:  /workspaces/BALSA/logs\n",
      "DATA_DIR_NAME:  /workspaces/BALSA/data\n"
     ]
    }
   ],
   "source": [
    "import pathlib\n",
    "dirpath = os.getcwd()\n",
    "print(\"current directory is : \" + dirpath)\n",
    "# Use pathlib to find the root dir of the git repo\n",
    "root_path = pathlib.PurePath(dirpath).parents[0]\n",
    "data_path = root_path / 'data'\n",
    "logs_path = root_path / 'logs'\n",
    "print(\"root directory is: \", root_path)\n",
    "print(\"data directory is: \",  data_path)\n",
    "print(\"logs directory is: \", logs_path)\n",
    "# Create equivalent dir names in the environment\n",
    "# Logs\n",
    "#LOGS_DIR_NAME = logs_path.as_posix()\n",
    "#print(\"LOGS_DIR_NAME: \", LOGS_DIR_NAME)\n",
    "#os.environ['LOGS_DIR_NAME'] = LOGS_DIR_NAME\n",
    "# Data\n",
    "DATA_DIR_NAME = data_path.as_posix()\n",
    "print(\"DATA_DIR_NAME: \", DATA_DIR_NAME)\n",
    "os.environ['DATA_DIR_NAME'] = DATA_DIR_NAME"
   ]
  },
  {
   "cell_type": "markdown",
   "metadata": {},
   "source": [
    "### Specify the JSONL file for model tuning"
   ]
  },
  {
   "cell_type": "code",
   "execution_count": 7,
   "metadata": {},
   "outputs": [],
   "source": [
    "tuning_file = \"tuning20231116.jsonl\""
   ]
  },
  {
   "cell_type": "code",
   "execution_count": 8,
   "metadata": {},
   "outputs": [
    {
     "data": {
      "text/plain": [
       "PurePosixPath('/workspaces/BALSA/data/tuning20231116.jsonl')"
      ]
     },
     "execution_count": 8,
     "metadata": {},
     "output_type": "execute_result"
    }
   ],
   "source": [
    "IN_FQPN = data_path / pathlib.PurePath(tuning_file).as_posix()\n",
    "IN_FQPN"
   ]
  },
  {
   "cell_type": "code",
   "execution_count": 9,
   "metadata": {},
   "outputs": [
    {
     "name": "stdout",
     "output_type": "stream",
     "text": [
      "FileObject(id='file-mOWBskmEo89j5l8yRFPFxnqe', bytes=30421, created_at=1700145929, filename='tuning20231116.jsonl', object='file', purpose='fine-tune', status='processed', status_details=None)\n"
     ]
    }
   ],
   "source": [
    "\n",
    "response = client.files.create(\n",
    "    file=Path(IN_FQPN),\n",
    "    purpose=\"fine-tune\",\n",
    ")\n",
    "\n",
    "print(response)"
   ]
  },
  {
   "cell_type": "code",
   "execution_count": 10,
   "metadata": {},
   "outputs": [
    {
     "name": "stdout",
     "output_type": "stream",
     "text": [
      "file-mOWBskmEo89j5l8yRFPFxnqe\n"
     ]
    }
   ],
   "source": [
    "print(response.id)\n",
    "myfile_id = response.id"
   ]
  },
  {
   "cell_type": "markdown",
   "metadata": {},
   "source": [
    "# Actual fine tune of a model"
   ]
  },
  {
   "cell_type": "code",
   "execution_count": 12,
   "metadata": {},
   "outputs": [
    {
     "name": "stdout",
     "output_type": "stream",
     "text": [
      "FineTuningJob(id='ftjob-AQXmHBAeJBqPDsAvbYD4r0Sd', created_at=1700145965, error=None, fine_tuned_model=None, finished_at=None, hyperparameters=Hyperparameters(n_epochs='auto', batch_size='auto', learning_rate_multiplier='auto'), model='gpt-3.5-turbo-0613', object='fine_tuning.job', organization_id='org-kHUq2JzdiW8FIDxqE01bYdot', result_files=[], status='validating_files', trained_tokens=None, training_file='file-mOWBskmEo89j5l8yRFPFxnqe', validation_file=None)\n"
     ]
    }
   ],
   "source": [
    "# create a new fine tuning model \n",
    "file_id = myfile_id\n",
    "# recommended fine tuning model\n",
    "model=\"gpt-3.5-turbo-0613\"\n",
    "# model used by Gregory Bauges\n",
    "#model=\"gpt-3.5-turbo\"\n",
    "\n",
    "response = client.fine_tuning.jobs.create(\n",
    "  training_file=file_id, \n",
    "  model=model\n",
    ")\n",
    "print(response)"
   ]
  },
  {
   "cell_type": "code",
   "execution_count": 32,
   "metadata": {},
   "outputs": [
    {
     "name": "stdout",
     "output_type": "stream",
     "text": [
      "file-HQqakeKHnHi4YFtdZJwGIEM6\n",
      "yes\n",
      "file-S22pfJMZv7asuZNoMlrElq6T\n",
      "file-RltDbgHjpQ9qANthDCvqJQkO\n",
      "file-6n4dELlk1gyh7brCV8iulYMW\n",
      "file-VCM3q5sZByfXopxM9v2SdoaF\n",
      "file-y5huqBR8UUOwvkmMEJuLwscs\n"
     ]
    }
   ],
   "source": [
    "# List 10 fine-tuning jobs\n",
    "#pprint.pprint(client.fine_tuning.jobs.list(limit=10))\n",
    "result = client.fine_tuning.jobs.list(limit=10)\n",
    "for a_job in result.data:\n",
    "    # print the jobs raw\n",
    "    #pprint.pprint(a_job)\n",
    "    # print just the file for a job\n",
    "    print(a_job.training_file)\n",
    "    # simple test to see if our tune job is in top ten based upon fileid\n",
    "    if myfile_id == a_job.training_file:\n",
    "        print(\"yes\")\n",
    "\n",
    "\n",
    "\n",
    "\n",
    "# Retrieve the state of a fine-tune\n",
    "#client.fine_tuning.jobs.retrieve(\"ftjob-abc123\")\n",
    "\n",
    "# Cancel a job\n",
    "#client.fine_tuning.jobs.cancel(\"ftjob-abc123\")\n",
    "\n",
    "# List up to 10 events from a fine-tuning job\n",
    "#client.fine_tuning.jobs.list_events(id=\"ftjob-abc123\", limit=10)\n",
    "\n",
    "# Delete a fine-tuned model (must be an owner of the org the model was created in)\n",
    "#client.models.delete(\"ft:gpt-3.5-turbo:acemeco:suffix:abc123\")"
   ]
  },
  {
   "cell_type": "code",
   "execution_count": null,
   "metadata": {},
   "outputs": [],
   "source": []
  },
  {
   "cell_type": "markdown",
   "metadata": {},
   "source": [
    "# Lets try to use it"
   ]
  },
  {
   "cell_type": "code",
   "execution_count": 14,
   "metadata": {},
   "outputs": [
    {
     "name": "stdout",
     "output_type": "stream",
     "text": [
      "tuned\n"
     ]
    }
   ],
   "source": [
    "#our_mode = \"normal\"\n",
    "our_mode = \"bas\"\n",
    "\n",
    "# dependency analytics disazble for syntax\n",
    "# default model\n",
    "default_model=\"gpt-3.5-turbo-0613\"\n",
    "# our tuned model\n",
    "# Chelsea model #1\n",
    "#our_model=\"ft:gpt-3.5-turbo-0613:personal::8DvbJsff\"\n",
    "# Chelsea model #2\n",
    "#our_model=\"ft:gpt-3.5-turbo-0613:personal::8IV7laj9\"\n",
    "# bas model #2\n",
    "#tuned_model=\"ft:gpt-3.5-turbo-0613:personal::8IV7laj9\"\n",
    "# model we trained using20231116 data\n",
    "tuned_model=\"ft:gpt-3.5-turbo-0613:personal::8LXzZa1D\"\n",
    "\n",
    "\n",
    "\n",
    "if our_mode == \"normal\":\n",
    "    print(\"normal\")\n",
    "    # stock model\n",
    "    our_model=default_model\n",
    "    # Define the system message\n",
    "    system_msg = 'You are a helpful assistant who understands programming in assembly.'\n",
    "    # Define the user message\n",
    "    user_msg = 'Provide an example of how to add two numbers in assembly.'\n",
    "else:\n",
    "    print(\"tuned\")\n",
    "    # tuned model\n",
    "    our_model=tuned_model\n",
    "   # Define the system message\n",
    "    system_msg = 'You are a helpful assistant who understands programming in BAL assembly.'\n",
    "    # Define the user message\n",
    "    user_msg = 'Provide an explanation of the Divide instruction using negative numbers in BAS.'\n",
    "\n",
    "\n",
    "\n",
    "\n",
    "\n",
    "\n",
    "# Create a dataset using GPT\n",
    "response = client.chat.completions.create(\n",
    "    model=our_model,\n",
    "    messages=[\n",
    "        {\"role\": \"system\", \"content\": system_msg},\n",
    "        {\"role\": \"user\", \"content\": user_msg}\n",
    "    ]\n",
    ")"
   ]
  },
  {
   "cell_type": "code",
   "execution_count": 15,
   "metadata": {},
   "outputs": [
    {
     "name": "stdout",
     "output_type": "stream",
     "text": [
      "finish_reason:  length\n",
      "conten:   The Divide (DIV) instruction is used with the following syntax:\n",
      " \n",
      " DC A(L) D I(X,B)\n",
      " \n",
      " OPCODE  DC    DV    RS   X\n",
      " \n",
      " Divide (DIV) divides a long dividend with a short divisor to produce\n",
      " a long quotient.  The OP field of the instruction code contains the\n",
      " op code for the DIV instruction (using the Standard and Full Floating\n",
      " Point Formats, this is 54).  A is the address of the dividend, length\n",
      " in L bytes; D is the address of the divisor.  Both the dividend and\n",
      " the divisor must be fullwords.  X is an index register which is\n",
      " incremented by one.  The B register contains the displacement to\n",
      " the second byte of the D operand.\n",
      "    Working storage is used as follows:\n",
      "    +0   copy of the dividend length\n",
      "    +2   copy of the divisor\n",
      "    +4   quotient sign--set negative for negative results\n",
      "    +5   dividend and divisor signs as follows:\n",
      "         -20 -1; +10 0; +21 +1; -1/0 +2; +1 -2\n",
      "   +6   $A and B working register\n",
      "    +8   $W1 and W2 working registers\n",
      "    +A   temporary prior quotient storage\n",
      " During the operation, full word binary dividend is built, length word\n",
      " is decremented, and then,  the binary dividend is divided by the binary divided\n",
      " with operation repeated until the length word is 0.  For a full word binary\n",
      " quotient, the long sign is checked with division by zero.  The remainder\n",
      " sign and therefore quotient sign is determined by the number of  signed\n",
      " operands as per the 8 posists in the working storage detailed.  The dividend\n",
      " sign i determined by the low value half of qregsiter associated with the quotiont\n",
      " address given in the instriuction. Quotient sign and remainder sign are\n",
      " checked against one anotehr.  If not the same, the result is rounded to the next\n",
      " lower absolution valuse.\n",
      "      $A  $W1  dividend\n",
      "      $5  $W2  stored signs\n",
      "      $B       Divisor\n",
      "      $8       working remainder\n",
      "      $2  $9   temprary quotient\n",
      "      $4       quotient sign\n",
      " \n",
      " R7 -> A  The A address is placed in the A Register.\n",
      " R8 -> B  The B address is placed in the B Register.\n",
      "    -> I  Zero: Xn -> I\n",
      " R2 -> X  The code inital contents of X have\n",
      "          been previously set to zero.\n",
      " X2: C(E) -> E  The E field of the instruction is placed in E.\n",
      " (R2) -> X  The contents of the index register are placed in X.\n",
      " R1: C(E) -> E  The E field of the second word of the instruction is placed in E.\n",
      " \n",
      " X2: (X) -> M  The contents of the memory location designated by the\n",
      "          contents of index register are placed in M.  The contents of X are NOT\n",
      "          changed.\n",
      " L2: (X) -> L  The contents of the memory location designated by the\n",
      "          contents of the index register are placed in L.  The contents of X are\n",
      "          not changed.\n",
      " \n",
      " M4: C -> C(0:15)  The low order eight bits of the\n",
      "                  second byte of the second address are placed\n",
      "                  in the low order eight bits of the second byte of\n",
      "                  the first address.\n",
      " M4+1: C -> C(16:31)  The low order eight bits of the first byte\n",
      "                      of the second address are placed in the high\n",
      "                      order eight bits of the second byte of the\n",
      "                      first address.\n",
      " \n",
      " M4: C -> C(E)  The contents of location 4 are placed in the instruction\n",
      "          designated by E.  E designates only the second byte of an\n",
      "          instruction.  The first byte is implied.\n",
      " \n",
      " M4: C(E) -> C  The character in the second byte of the instruction\n",
      "          specified by E is placed in location 4.\n",
      " \n",
      " \n",
      " R7: C(0:15) <- M  The low order 16 bits of the contents of M are\n",
      "                   are placed in the first character of register 7.\n",
      " R7: C(16:31) <- M  The high order 16 bits of the contents M are\n",
      "                   placed in the second character of register 7.\n",
      " \n",
      " R3: L <- L+2  the operand length is place in L.\n",
      " \n",
      " R4: C(16:31) <- L  The length is placed in the second byte of the\n",
      "                   L register.\n",
      " \n",
      " \n",
      " R5 -> A  The A address is placed in the A Register.\n",
      " R3 -> B  The B address is placed in the B Register.\n",
      "    -> I  Zero: Xn -> I\n",
      " R2 -> X  The code inital contents of X have\n",
      "          been previously set to zero.\n",
      " X2: C(E) -> E  The E field of the instruction is placed in E.\n",
      " (R2) -> X  The contents of the index register are placed in X.\n",
      " R1: C(E) -> E  The E field of the second word of the instruction is placed in E.\n",
      " \n",
      " X1: (X) <- M  M -> (X)  M is unchanged.\n",
      " \n",
      " R6 -> A  The A address is placed in the A Register.\n",
      " R5 -> B  The B address is placed in the B Register.\n",
      "    -> I  Zero: Xn -> I\n",
      " R2 -> X  The code inital contents of X have\n",
      "          been previously set to zero.\n",
      " X2: M -> M  The contents of the memory location designated by\n",
      "              the contents of X are placed in M.  The contents\n",
      "              of X are not changed.\n",
      " M: C -> C(E)  The contents of memory are placed into the\n",
      "              character positions of the instruciton specified by E.\n",
      " \n",
      " X2: X - 1 -> X  The X register is decremented by one.\n",
      " \n",
      " X1: C(E) -> E  The E field of the first word of the instruction\n",
      "              is placed in E.\n",
      " \n",
      " M2: C(E) -> E  The e field of the second word of the instruction\n",
      "              is placed in E.\n",
      " \n",
      " M2: C -> C(E)  The character in the second byte of the instruciton\n",
      "              specified by e is placed in the first byte of memory.\n",
      " \n",
      " \n",
      " Assemble and execute the following instructions to perform\n",
      " a long fixed point divide.  All operands are assumed to be\n",
      " signed fullwords and in two's complement notation.\n",
      " \n",
      " ST   DIVDIDND  Save the value of the dividend (The L is used\n",
      "               to calculate the position of the 2nd operand\n",
      "               during the division).\n",
      " ST   DIVSR    Save the value of the divisor\n",
      " L    0,TEMP   Temporarily save the length\n",
      " A    DIVIDND  Get the dividend address\n",
      " O    TEMP3X   Operand length used as a limiter during loop\n",
      " N3   D3BLNGTH Operand length field in 2nd OPP of looping\n",
      "              divide instruction\n",
      " M2X3 M3       Convert D/X to D,X during operand fetch\n",
      " M4X3 M3       Convert B/X to B,X during operand fetch\n",
      " D4N3 N3       Decrement Operand Length during looping\n",
      " D6N3 N3       Decrement Operand Length during looping\n",
      " S    DIVSR    Use the stored divisor second operand\n",
      " A    INDXR    Calulate the position during the first divide\n",
      " M6M5 N3       Test Operand Length for 0 and position the\n",
      "              first operand\n",
      " N3N3 N3       Copy the operand length field\n",
      " S6   D1X      Adjust X at the top of the loop\n",
      " B2   LOOPD   Branch to the divide loop\n",
      "       .\n",
      "       .\n",
      "       .\n",
      "       .\n",
      " LOOPD M2X3 M3 Write D,X back to memory\n",
      " D6N3 N3       Decrement operand length during loop\n",
      " S6B2 B2       Sence Operand Length for next loop\n",
      " A6   D1X9     Update the address position\n",
      " C4   DIVDIDND Restore the position of the dividend\n",
      " L4   TEMP4    Clear\n",
      " D4   TEMP4    the upper byte\n",
      " ST   TEMP4    now resulting length is correct.\n",
      " \n",
      " \n",
      " \n",
      " \n",
      "        BALR  R14,0        set return addr reg in case of test prog\n",
      "        DS    0F           Op Len of dividend during divide\n",
      "DIVDIDND DC    F'12345678'\n",
      "DIVSR   DC    F'00000007'  divisor\n",
      "        DC    A(TEMP1)     Temp storage for length of dividend\n",
      "                      * first short - divide\n",
      "        ST    R5,DVD1R5    save dividend address\n",
      "        ST    R6,DVD1R6    save dividend constant\n",
      "        ST    R9,DVS1R9    save divisor address\n",
      "        LD    R5,DVD2R5    load dividend address\n",
      "        L     R6,DVD2R6    load dividend constant\n",
      "        LD    R9,DVS2R9    load divisor address\n",
      "        LD    R2,OP2R9     get opcode for 2 operand R1 form\n",
      "        L     R1,OP1R9     get 2 operand R1 form\n",
      "        ST    R1,OP1R5     save\n",
      "        L     R1,OP2R6     get 2 operand R1 form\n",
      "        ST    R1,OP2R5     save\n",
      "        L     R1,DVD1R6    Setup to test first divide\n",
      "        ST    R1,SAVEB2R6\n",
      "        L     R1,DVD1R5\n",
      "        ST    R1,SAVEB2R5\n",
      "LOOP1   L     R9,2(,R9)    self index to F instead of branch\n",
      "        ST    R9,DVS1R9    back to DVS1R9 for storage\n",
      "        LD    R1,OP1R6     get 2 operand R1 form\n",
      "        ST    R1,OP1R5     save\n",
      "        L     R1,OP2R6     get 2 operand R1 form\n",
      "        ST    R1,OP2R5     save\n",
      "        LD    R6,DVD1R6    get dividend constant\n",
      "        LD    R1,DVD1R5    get dividend\n",
      "        ST    R1,DVD1R9    save dividend\n",
      "        ST    R6,DVD1R8    save dividend\n",
      "        LD    R6,DVD2R6\n",
      "        LD    R9,DVD2R9\n",
      "        *      R6 - constant R9 - addr\n",
      "        L     R1,SAVEB2R6  Set up to determine dividend sign\n",
      "        ST    R1,DVD1R6\n",
      "        L     R1,SAVEB2R5\n",
      "        ST    R1,DVD1R5\n",
      "        LA    R3,1\n",
      "CHECK1  ST    R3,OP1R9     store the operand no for debugging\n",
      "        LD    R1,OP1R5     get 2 operand R1 form\n",
      "        LR    R3,R1        set R1 for debugging\n",
      "        ST    R1,OP1X       set X = 0\n",
      "        L     R1,OP2R5     get 2 operand R1 form\n",
      "        ST    R1,OP2X       set X = 0\n",
      "        L     R7,OPCODE     get the op code\n",
      "        MCW   M7L8,R8      clear R8\n",
      "        C     R7,D2(,R8)    compare\n",
      "        BC    30,CH02       branch\n",
      "        C     R7,F2(,R8)    compare\n",
      "        BC    20,CH02       branch\n",
      "        LH    R2,OP2X       get X\n",
      "        S     R2,=F'1'      decrement\n",
      "        SH    R2,OP2X       save\n",
      "        SBR   R9,=A0-OP2A   B = B + x2\n",
      "        N     R9,=F'268'    convert to 2nd byte offset\n",
      "        SH    R9,OP2X\n",
      "CH02    LA    R7,2(,R9)    get 2nd byte of 2nd operand\n",
      "        SA    R7,OP2A(,R9)  move to 1st byte of 2nd operand\n",
      "        DC    X'2011'       print 2nd operand\n",
      "        * variable - divide\n",
      "        SR    R4,R4        clear accumulator\n",
      "        SR    R5,R5        and quotient\n",
      "        SR    R6,R6        and remainder\n",
      "        LD    R7,DVD1R9    load dividend\n",
      "        D     R7,DVS1R9    divide\n",
      "        LD    R5,DVD1R5    reload\n",
      "        D     R5,DVS1R9    divide\n",
      "        LR    R9,R5        test R5\n",
      "        LTR   R9,R9        positive?\n",
      "        BNS   CH03         no\n",
      "        LA    R6,1         yes - clear remainder\n",
      "CH03    ST    R5,SAVEB2R5 save sign word\n",
      "        L     R9,OP1R5     get dv op1\n",
      "        S     R9,OP2R5     subtract op2\n",
      "        N     R9,X'0D0D'   negative?\n",
      "        BPU   CH05         no\n",
      "        S     R4,DVS1R6    yes - add offset\n",
      "        S     R4,DVS1R6    again\n",
      "CH04    B     CH07\n",
      "CH05    A     R4,=P''      setup for cmp\n",
      "CH06    C     R1,0(,R4)    comp sw1 to table\n",
      "        BE    CH08\n",
      "        A     R4,=F'2'\n",
      "        B     CH06\n",
      "CH07    LM    R7,R6,OP1R5  get signed sign word\n",
      "CH08    M     R1,OP2R5     op2 sign to R1\n",
      "        SA    R1,OP1R5     op2 sign becomes sign\n",
      "        S     R1,OPTABA    idx becomes op + 4\n",
      "        LA    R1,OP3R1     get to 2nd part of idx\n",
      "        M     R6,4(,R1)    move *R1 to R6\n",
      "        M     R7,4(,R1)    move *R1 to R7\n",
      "        CH    R4,B1(,R1)    compare sw1 to sw2\n",
      "        BE    B1(,R1)       Equal - branch to sw1 code\n",
      "        USING CH20,R20\n",
      "        B     R20           general BRANCH\n",
      "CH20    USING *,R0\n",
      "LOOKUP  B     C1(,R1)\n",
      "        DC    X'08'\n",
      "        DC    X'0C'\n",
      "        DC    X'10'\n",
      "        DC    X'14'\n",
      "        DC    X'18'\n",
      "        DC    X'1C'\n",
      "        DC    X'20'\n",
      "B1      DC    X'08'\n",
      "B2      DC    X'0C'\n",
      "B3      DC    X'10'\n",
      "B4      DC    X'14'\n",
      "B5      DC    X'18'\n",
      "B6      DC    X'1C'\n",
      "        L     R9,OP2R5   get final op2 sign\n",
      "        C     R1,=F'8'   negative set?\n",
      "        BH    B4\n",
      "        C     R1,=F'4'   lt set?\n",
      "        BH    B3\n",
      "        C     R1,=F'0'   gt set\n",
      "        B     B1\n",
      "B3      C     R9,=F'0'   op2 sign?\n",
      "        BNE   B5\n",
      "B1      C     R9,=F'4'   positive set?\n",
      "        BH    ENDI\n",
      "        C     R9,=F'8'   lt set?\n",
      "        BH    B6\n",
      "        A     R4,=F'16'  add 16 to the sign jump to branch\n",
      "        CH    R4,B1(,R1) jump to sw1 code\n",
      "ENDI    DC    X'01'      end or IFLG code\n",
      " \n",
      " \n",
      " \n",
      " \n",
      "        DC    3CL4'OPC1'   +\n",
      "        AIF   (?C-?,NE)    *\n",
      "OPC1   DC    X'2031'         +- opcodes must match for\n",
      "        DC    X'2059'         * table to be copied\n",
      "        DC    X'202D'         * to main code\n",
      "        DC    X'200A'      -\n",
      " \n",
      "OPTAB  DS    0D\n",
      "      EQU   * - OPTAB\n",
      "TABENT DC    A(OPTABO)    DC    O(OPCODE)\n",
      "OPTABO EQU   *\n",
      "D2L2   DC    X'C'         DC    X'L'\n",
      "D2A1   DC    X'9'         DC    X'1'\n",
      "D2A2   DC    X'9'         DC    X'2'\n",
      "D2B1   DC    X'9'         DC    X'3'\n",
      "D2B2   DC    X'9'         DC    X'4'\n",
      "D2C1   DC    X'9'         DC    X'5'\n",
      "D2C2   DC    X'9'         DC    X'6'\n",
      "F2A1   DC    X'4'         DC    X'1'\n",
      "F2A2   DC    X'4'         DC    X'2'\n",
      "F2B1   DC    X'4'         DC    X'3'\n",
      "F2B2   DC    X'4'         DC    X'4'\n",
      "F2C1   DC    X'4'         DC    X'5'\n",
      "F2C2   DC    X'4'         DC    X'6'\n",
      " \n",
      "OPCODE DC    X'20'\n",
      "OP1R5  DC    X'0'\n",
      "OP1X   DC    X'0'\n",
      "OP2R5  DC    X'0'\n",
      "OP2X   DC    X'0'\n",
      " \n",
      " \n",
      " \n",
      " \n",
      " \n",
      "        DC    X'20'\n",
      "        DC    F'3.1415926'\n",
      "        DC    F'2.7182818'\n",
      "        DC    X'2008'\n",
      " \n",
      " \n",
      "        DC    X'37'\n",
      "        DC    P'2.22045'\n",
      "        DC    X'2028'\n",
      " \n",
      " \n",
      " CIF1   * use and example to generate all the code needed\n",
      " \n",
      "        DC    3CL4'F2B1'   +\n",
      "        AIF   (?C-?,NE)    *\n",
      "F2B1   DC    X'20A0'         +- opcodes must match for\n",
      "        DC    X'\n"
     ]
    }
   ],
   "source": [
    "print(\"finish_reason: \", response.choices[0].finish_reason)\n",
    "print(\"conten: \", response.choices[0].message.content)"
   ]
  },
  {
   "cell_type": "code",
   "execution_count": null,
   "metadata": {},
   "outputs": [],
   "source": []
  },
  {
   "cell_type": "code",
   "execution_count": null,
   "metadata": {},
   "outputs": [],
   "source": []
  }
 ],
 "metadata": {
  "kernelspec": {
   "display_name": ".venv",
   "language": "python",
   "name": "python3"
  },
  "language_info": {
   "codemirror_mode": {
    "name": "ipython",
    "version": 3
   },
   "file_extension": ".py",
   "mimetype": "text/x-python",
   "name": "python",
   "nbconvert_exporter": "python",
   "pygments_lexer": "ipython3",
   "version": "3.10.8"
  }
 },
 "nbformat": 4,
 "nbformat_minor": 2
}
